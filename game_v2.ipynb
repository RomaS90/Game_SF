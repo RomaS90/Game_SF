{
 "cells": [
  {
   "cell_type": "markdown",
   "metadata": {},
   "source": [
    "# Игра \"Угадай число\" (v2)\n",
    "\n",
    "## Описание проекта\n",
    "Игра, в которой **компьютер угадывает число**, загаданное пользователем, используя алгоритм бинарного поиска. Алгоритм гарантирует угадывание числа за **не более 7 попыток**.\n",
    "\n",
    "---\n",
    "\n",
    "## Основные компоненты\n",
    "### [Функция `smart_predict`](game_v2.py#L1)\n",
    "- Реализует бинарный поиск для угадывания числа.\n",
    "- **Вход**: Загаданное число (1–100).\n",
    "- **Выход**: Количество попыток.\n",
    "\n",
    "### [Функция `score_game`](game_v2.py#L20)\n",
    "- Оценивает среднее количество попыток за 1000 экспериментов.\n",
    "- **Вход**: Функция угадывания.\n",
    "- **Выход**: Среднее количество попыток.\n",
    "\n",
    "---\n",
    "\n",
    "## Запуск игры\n",
    "1. Установите зависимости:\n",
    "   ```bash\n",
    "   pip install numpy"
   ]
  },
  {
   "cell_type": "code",
   "execution_count": 3,
   "metadata": {},
   "outputs": [
    {
     "name": "stdout",
     "output_type": "stream",
     "text": [
      "Среднее число попыток: 5\n"
     ]
    }
   ],
   "source": [
    "# Запуск игры из внешнего файла\n",
    "%run game_v2.py"
   ]
  }
 ],
 "metadata": {
  "kernelspec": {
   "display_name": "Python 3",
   "language": "python",
   "name": "python3"
  },
  "language_info": {
   "codemirror_mode": {
    "name": "ipython",
    "version": 3
   },
   "file_extension": ".py",
   "mimetype": "text/x-python",
   "name": "python",
   "nbconvert_exporter": "python",
   "pygments_lexer": "ipython3",
   "version": "3.11.9"
  }
 },
 "nbformat": 4,
 "nbformat_minor": 2
}
